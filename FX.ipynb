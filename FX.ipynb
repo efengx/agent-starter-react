{
 "cells": [
  {
   "cell_type": "code",
   "execution_count": null,
   "id": "445f5524",
   "metadata": {},
   "outputs": [],
   "source": [
    "## 构建 livekit 主要用于数字人\n",
    "## 参考目录: https://docs.livekit.io/home/self-hosting/local/\n",
    "## 使用docker compose实现\n",
    "!brew install livekit\n",
    "\n",
    "## 启动服务\n",
    "!livekit-server --dev --bind 0.0.0.0\n",
    "## 安装docker镜像\n",
    "!docker run --rm -it -p 7880:7880 -p 7881:7881 livekit/livekit-server --dev\n"
   ]
  },
  {
   "cell_type": "code",
   "execution_count": null,
   "id": "e78b819c",
   "metadata": {},
   "outputs": [],
   "source": [
    "## 启动\n",
    "!pnpm install\n",
    "!pnpm dev\n"
   ]
  },
  {
   "cell_type": "code",
   "execution_count": null,
   "id": "c332281e",
   "metadata": {},
   "outputs": [],
   "source": [
    "## 安装 livekit-serve (无法正常使用, 先挂起)\n",
    "!docker compose -p support -f docker-compose.yml up -d\n"
   ]
  }
 ],
 "metadata": {
  "kernelspec": {
   "display_name": "browser-use",
   "language": "python",
   "name": "python3"
  },
  "language_info": {
   "name": "python",
   "version": "3.11.8"
  }
 },
 "nbformat": 4,
 "nbformat_minor": 5
}
